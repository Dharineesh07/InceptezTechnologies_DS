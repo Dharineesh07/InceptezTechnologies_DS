{
 "cells": [
  {
   "cell_type": "markdown",
   "metadata": {},
   "source": [
    "# ASSIGNMENT 1\n",
    " \n",
    " # TOPIC : LIST\n"
   ]
  },
  {
   "cell_type": "markdown",
   "metadata": {},
   "source": [
    "# In Python, lists are used to store multiple data at once."
   ]
  },
  {
   "cell_type": "markdown",
   "metadata": {},
   "source": [
    "# Create a List"
   ]
  },
  {
   "cell_type": "code",
   "execution_count": 4,
   "metadata": {},
   "outputs": [
    {
     "name": "stdout",
     "output_type": "stream",
     "text": [
      "[19, 26, 23, 7, 98, 43]\n"
     ]
    }
   ],
   "source": [
    "List =  [19,26,23,7,98,43]\n",
    "print(List)"
   ]
  },
  {
   "cell_type": "markdown",
   "metadata": {},
   "source": [
    "# List Methods"
   ]
  },
  {
   "cell_type": "raw",
   "metadata": {},
   "source": [
    "Python has a set of built-in methods that you can use on lists/arrays.\n",
    "\n",
    "Method\tDescription\n",
    "\n",
    "append()\tAdds an element at the end of the list\n",
    "clear()\tRemoves all the elements from the list\n",
    "copy()\tReturns a copy of the list\n",
    "count()\tReturns the number of elements with the specified value\n",
    "extend()\tAdd the elements of a list (or any iterable), to the end of the current list\n",
    "index()\tReturns the index of the first element with the specified value\n",
    "insert()\tAdds an element at the specified position\n",
    "pop()\tRemoves the element at the specified position\n",
    "remove()\tRemoves the first item with the specified value\n",
    "reverse()\tReverses the order of the list\n",
    "sort()\tSorts the list"
   ]
  },
  {
   "cell_type": "code",
   "execution_count": 6,
   "metadata": {},
   "outputs": [
    {
     "name": "stdout",
     "output_type": "stream",
     "text": [
      "[19, 26, 23, 7, 98, 43, 15]\n"
     ]
    }
   ],
   "source": [
    "# The append() method adds an item at the end of the list. For example,\n",
    "List =  [19,26,23,7,98,43]\n",
    "List.append(15)\n",
    "print(List)"
   ]
  },
  {
   "cell_type": "code",
   "execution_count": 8,
   "metadata": {},
   "outputs": [
    {
     "name": "stdout",
     "output_type": "stream",
     "text": [
      "[]\n"
     ]
    }
   ],
   "source": [
    "# The clear() method removes all items from the list. for example,\n",
    "List =  [19,26,23,7,98,43]\n",
    "List.clear()\n",
    "print(List)"
   ]
  },
  {
   "cell_type": "code",
   "execution_count": 9,
   "metadata": {},
   "outputs": [
    {
     "name": "stdout",
     "output_type": "stream",
     "text": [
      "[19, 26, 23, 7, 98, 43]\n"
     ]
    }
   ],
   "source": [
    "# The copy() method returns a shallow copy of the list. for example,\n",
    "List =  [19,26,23,7,98,43]\n",
    "x = List.copy()\n",
    "print(x)"
   ]
  },
  {
   "cell_type": "code",
   "execution_count": 13,
   "metadata": {},
   "outputs": [
    {
     "data": {
      "text/plain": [
       "2"
      ]
     },
     "execution_count": 13,
     "metadata": {},
     "output_type": "execute_result"
    }
   ],
   "source": [
    "# The count() method returns the number of times the specified element appears in the list.for eg,\n",
    "List =  [19,26,23,7,98,23]\n",
    "List.count(23)\n"
   ]
  },
  {
   "cell_type": "code",
   "execution_count": 20,
   "metadata": {},
   "outputs": [
    {
     "name": "stdout",
     "output_type": "stream",
     "text": [
      "[19, 26, 23, 7, 98, 23, 34, 89]\n"
     ]
    }
   ],
   "source": [
    "# The extend() method adds all the elements of an iterable (list, tuple, string etc.) to the end of the list. for eg,\n",
    "List =  [19,26,23,7,98,23]\n",
    "list2 = [34,89]\n",
    "List.extend(list2)\n",
    "print(List)"
   ]
  },
  {
   "cell_type": "code",
   "execution_count": 22,
   "metadata": {},
   "outputs": [
    {
     "data": {
      "text/plain": [
       "5"
      ]
     },
     "execution_count": 22,
     "metadata": {},
     "output_type": "execute_result"
    }
   ],
   "source": [
    "# The index() method returns the index of the specified element in the list. for eg,\n",
    "List =  [19,26,23,7,98,25]\n",
    "List.index(25)"
   ]
  },
  {
   "cell_type": "code",
   "execution_count": 25,
   "metadata": {},
   "outputs": [
    {
     "name": "stdout",
     "output_type": "stream",
     "text": [
      "[19, 26, 23, 899, 7, 98, 25]\n"
     ]
    }
   ],
   "source": [
    "# The insert() method inserts an element to the list at the specified index. for eg,\n",
    "List =  [19,26,23,7,98,25]\n",
    "List.insert(3,899)\n",
    "print(List)"
   ]
  },
  {
   "cell_type": "code",
   "execution_count": 26,
   "metadata": {},
   "outputs": [
    {
     "name": "stdout",
     "output_type": "stream",
     "text": [
      "[19, 26, 23, 7, 98, 25]\n"
     ]
    }
   ],
   "source": [
    "# The list pop() method removes the item at the specified index. The method also returns the removed item.for eg,\n",
    "List=[19, 26, 23, 899, 7, 98, 25]\n",
    "List.pop(3)\n",
    "print(List)"
   ]
  },
  {
   "cell_type": "code",
   "execution_count": 29,
   "metadata": {},
   "outputs": [
    {
     "name": "stdout",
     "output_type": "stream",
     "text": [
      "[19, 26, 23, 899, 7, 25]\n"
     ]
    }
   ],
   "source": [
    "# The remove() method removes the first matching element (which is passed as an argument) from the list.for eg,\n",
    "List=[19, 26, 23, 899, 7, 98, 25]\n",
    "List.remove(98)\n",
    "print(List)"
   ]
  },
  {
   "cell_type": "code",
   "execution_count": 31,
   "metadata": {},
   "outputs": [
    {
     "name": "stdout",
     "output_type": "stream",
     "text": [
      "[25, 7, 899, 23, 26, 19]\n"
     ]
    }
   ],
   "source": [
    "# The reverse() method reverses the elements of the list. for eg,\n",
    "List=[19, 26, 23, 899, 7, 25]\n",
    "List.reverse()\n",
    "print(List)"
   ]
  },
  {
   "cell_type": "code",
   "execution_count": 34,
   "metadata": {},
   "outputs": [
    {
     "name": "stdout",
     "output_type": "stream",
     "text": [
      "[7, 19, 23, 25, 26, 899]\n",
      "[899, 26, 25, 23, 19, 7]\n"
     ]
    }
   ],
   "source": [
    "# The sort() method sorts the items of a list in ascending or descending order.for eg,\n",
    "# Ascending_order\n",
    "List=[19, 26, 23, 899, 7, 25]\n",
    "List.sort()\n",
    "print(List)\n",
    "\n",
    "#Descending order\n",
    "List=[19, 26, 23, 899, 7, 25]\n",
    "List.sort(reverse=True)\n",
    "print(List)\n"
   ]
  }
 ],
 "metadata": {
  "kernelspec": {
   "display_name": "Python 3",
   "language": "python",
   "name": "python3"
  },
  "language_info": {
   "codemirror_mode": {
    "name": "ipython",
    "version": 3
   },
   "file_extension": ".py",
   "mimetype": "text/x-python",
   "name": "python",
   "nbconvert_exporter": "python",
   "pygments_lexer": "ipython3",
   "version": "3.8.5"
  }
 },
 "nbformat": 4,
 "nbformat_minor": 4
}
